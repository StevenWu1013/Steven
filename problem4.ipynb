{
 "cells": [
  {
   "cell_type": "code",
   "execution_count": 17,
   "metadata": {},
   "outputs": [],
   "source": [
    "import neurolab as nl\n",
    "import numpy as np\n",
    "from sklearn.preprocessing import MinMaxScaler\n",
    "\n",
    "\n",
    "# Create train samples\n",
    "i1 = np.random.rand(750,2)\n",
    "i2 = np.random.rand(750,2)\n",
    "\n",
    "# normalization\n",
    "scaler = MinMaxScaler(feature_range=(-0.5, 0.5))\n",
    "n1 = scaler.fit_transform(i1)\n",
    "n2 = scaler.fit_transform(i2)\n",
    "\n",
    "class1 = np.hstack((np.zeros([250,1]),np.ones([250,1])*0.5))\n",
    "class2 = np.hstack((np.sin(n1[250:500,0]).reshape(250,1),np.cos(n1[250:500,1]).reshape(250,1)))\n",
    "class3 = np.hstack((np.ones([250,1]),np.zeros([250,1])))\n",
    "\n",
    "class2_test = np.hstack((np.sin(n2[250:500,0]).reshape(250,1),np.cos(n2[250:500,1]).reshape(250,1)))\n",
    "\n",
    "t1 = np.vstack((class1,class2))\n",
    "t1 = np.vstack((t1,class3))\n",
    "t2 = np.vstack((class1,class2_test))\n",
    "t2 = np.vstack((t2,class3))"
   ]
  },
  {
   "cell_type": "code",
   "execution_count": 28,
   "metadata": {},
   "outputs": [
    {
     "name": "stdout",
     "output_type": "stream",
     "text": [
      "Epoch: 10; Error: 0.20485187329416443;\n",
      "Epoch: 20; Error: 0.23299077866736112;\n",
      "Epoch: 30; Error: 0.2047331675204811;\n",
      "Epoch: 40; Error: 0.20574193196378404;\n",
      "Epoch: 50; Error: 0.20776263918883228;\n",
      "Epoch: 60; Error: 0.2047163497615557;\n",
      "Epoch: 70; Error: 0.20486101422793607;\n",
      "Epoch: 80; Error: 0.2046422034771501;\n",
      "Epoch: 90; Error: 0.20455601585716127;\n",
      "Epoch: 100; Error: 0.20454572734832266;\n",
      "The maximum number of train epochs is reached\n"
     ]
    },
    {
     "data": {
      "image/png": "[encoded data removed]",
      "text/plain": [
       "<Figure size 432x288 with 1 Axes>"
      ]
     },
     "metadata": {
      "needs_background": "light"
     },
     "output_type": "display_data"
    }
   ],
   "source": [
    "input = n1\n",
    "target = t1\n",
    "# Create network with 4 layers\n",
    "net = nl.net.newelm([[-0.5, 0.5],[-0.5, 0.5]],[10,5,6,2], [nl.trans.SatLin(),nl.trans.LogSig(),nl.trans.TanSig(),nl.trans.PureLin()])\n",
    "# Set initialized functions and init\n",
    "net.layers[0].initf = nl.init.InitRand([-0.1, 0.1], 'wb')\n",
    "net.layers[1].initf= nl.init.InitRand([-0.1, 0.1], 'wb')\n",
    "net.layers[2].initf= nl.init.InitRand([-0.1, 0.1], 'wb')\n",
    "net.layers[3].initf= nl.init.InitRand([-0.1, 0.1], 'wb')\n",
    "net.init()\n",
    "# Train network\n",
    "error = net.train(input, target, epochs=100, show=10, goal=0.01,lr=0.01)\n",
    "# Simulate network\n",
    "output = net.sim(input)\n",
    "\n",
    "# Plot result\n",
    "import pylab as pl\n",
    "%matplotlib inline\n",
    "\n",
    "#pl.subplot(211)\n",
    "pl.plot(error)\n",
    "pl.xlabel('Epoch number')\n",
    "pl.ylabel('Train error (default MSE)')\n",
    "\n",
    "#pl.subplot(212)\n",
    "#pl.plot(i1.reshape(13),output.reshape(13))\n",
    "#pl.legend(['net output'],'upper right')\n",
    "pl.show()"
   ]
  },
  {
   "cell_type": "code",
   "execution_count": 29,
   "metadata": {},
   "outputs": [
    {
     "data": {
      "text/plain": [
       "0.2018508020147744"
      ]
     },
     "execution_count": 29,
     "metadata": {},
     "output_type": "execute_result"
    }
   ],
   "source": [
    "f = nl.error.MSE()\n",
    "output = net.sim(n2)\n",
    "f(output, t2)\n",
    "\n"
   ]
  },
  {
   "cell_type": "code",
   "execution_count": 30,
   "metadata": {},
   "outputs": [
    {
     "data": {
      "text/plain": [
       "array([[0.32480815, 0.48282454],\n",
       "       [0.32483654, 0.48287117],\n",
       "       [0.32495805, 0.48307206],\n",
       "       ...,\n",
       "       [0.32483525, 0.48286905],\n",
       "       [0.32487453, 0.48294032],\n",
       "       [0.32498556, 0.48311591]])"
      ]
     },
     "execution_count": 30,
     "metadata": {},
     "output_type": "execute_result"
    }
   ],
   "source": [
    "output"
   ]
  },
  {
   "cell_type": "code",
   "execution_count": 27,
   "metadata": {},
   "outputs": [
    {
     "data": {
      "text/plain": [
       "array([0.56652875, 0.41509017])"
      ]
     },
     "execution_count": 27,
     "metadata": {},
     "output_type": "execute_result"
    }
   ],
   "source": [
    "output = net.sim(n1)\n",
    "output[300]"
   ]
  },
  {
   "cell_type": "code",
   "execution_count": null,
   "metadata": {},
   "outputs": [],
   "source": []
  }
 ],
 "metadata": {
  "kernelspec": {
   "display_name": "Python 3",
   "language": "python",
   "name": "python3"
  },
  "language_info": {
   "codemirror_mode": {
    "name": "ipython",
    "version": 3
   },
   "file_extension": ".py",
   "mimetype": "text/x-python",
   "name": "python",
   "nbconvert_exporter": "python",
   "pygments_lexer": "ipython3",
   "version": "3.7.3"
  }
 },
 "nbformat": 4,
 "nbformat_minor": 2
}
