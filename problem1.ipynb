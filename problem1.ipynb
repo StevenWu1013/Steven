{
 "cells": [
  {
   "cell_type": "code",
   "execution_count": 196,
   "metadata": {},
   "outputs": [],
   "source": [
    "import numpy as np\n",
    "# set dataset\n",
    "\n",
    "train_X = np.array([[1,1,1,-1,-1,1,-1,-1,-1,1,-1,-1,-1,1,-1,-1],[1,1,1,-1,1,-1,-1,-1,1,1,1,-1,1,1,1,-1],[1,1,1,-1,1,1,-1,-1,1,-1,-1,-1,1,-1,-1,-1]])\n",
    "train_Y = np.array([[1],[0],[-1]])\n",
    "\n",
    "test_X = np.array([[-1,1,1,1,-1,-1,1,-1,-1,-1,1,-1,-1,-1,1,-1],[-1,1,1,1,-1,1,-1,-1,-1,1,1,1,-1,1,1,1],[-1,1,1,1,-1,1,1,-1,-1,1,-1,-1,-1,1,-1,-1]])\n",
    "test_Y = np.array([[1],[0],[-1]])\n",
    "\n",
    "train_X = np.vstack((train_X,test_X))\n",
    "train_Y = np.vstack((train_Y,test_Y))"
   ]
  },
  {
   "cell_type": "code",
   "execution_count": 197,
   "metadata": {},
   "outputs": [
    {
     "name": "stdout",
     "output_type": "stream",
     "text": [
      "Train on 6 samples, validate on 3 samples\n",
      "Epoch 1/40\n",
      "6/6 [==============================] - 1s 135ms/step - loss: 0.6686 - mse: 0.6686 - val_loss: 0.6037 - val_mse: 0.6037\n",
      "Epoch 2/40\n",
      "6/6 [==============================] - 0s 2ms/step - loss: 0.5288 - mse: 0.5288 - val_loss: 0.6525 - val_mse: 0.6525\n",
      "Epoch 3/40\n",
      "6/6 [==============================] - 0s 2ms/step - loss: 0.4311 - mse: 0.4311 - val_loss: 0.4563 - val_mse: 0.4563\n",
      "Epoch 4/40\n",
      "6/6 [==============================] - 0s 2ms/step - loss: 0.4137 - mse: 0.4137 - val_loss: 0.1764 - val_mse: 0.1764\n",
      "Epoch 5/40\n",
      "6/6 [==============================] - 0s 2ms/step - loss: 0.1683 - mse: 0.1683 - val_loss: 0.0702 - val_mse: 0.0702\n",
      "Epoch 6/40\n",
      "6/6 [==============================] - 0s 2ms/step - loss: 0.0651 - mse: 0.0651 - val_loss: 0.1894 - val_mse: 0.1894\n",
      "Epoch 7/40\n",
      "6/6 [==============================] - 0s 2ms/step - loss: 0.1005 - mse: 0.1005 - val_loss: 0.1097 - val_mse: 0.1097\n",
      "Epoch 8/40\n",
      "6/6 [==============================] - 0s 2ms/step - loss: 0.0654 - mse: 0.0654 - val_loss: 0.0097 - val_mse: 0.0097\n",
      "Epoch 9/40\n",
      "6/6 [==============================] - 0s 2ms/step - loss: 0.0097 - mse: 0.0097 - val_loss: 0.0522 - val_mse: 0.0522\n",
      "Epoch 10/40\n",
      "6/6 [==============================] - 0s 2ms/step - loss: 0.0410 - mse: 0.0410 - val_loss: 0.0645 - val_mse: 0.0645\n",
      "Epoch 11/40\n",
      "6/6 [==============================] - 0s 2ms/step - loss: 0.0392 - mse: 0.0392 - val_loss: 0.0197 - val_mse: 0.0197\n",
      "Epoch 12/40\n",
      "6/6 [==============================] - 0s 2ms/step - loss: 0.0135 - mse: 0.0135 - val_loss: 0.0050 - val_mse: 0.0050\n",
      "Epoch 13/40\n",
      "6/6 [==============================] - 0s 2ms/step - loss: 0.0183 - mse: 0.0183 - val_loss: 0.0132 - val_mse: 0.0132\n",
      "Epoch 14/40\n",
      "6/6 [==============================] - 0s 2ms/step - loss: 0.0161 - mse: 0.0161 - val_loss: 0.0150 - val_mse: 0.0150\n",
      "Epoch 15/40\n",
      "6/6 [==============================] - 0s 2ms/step - loss: 0.0118 - mse: 0.0118 - val_loss: 0.0133 - val_mse: 0.0133\n",
      "Epoch 16/40\n",
      "6/6 [==============================] - 0s 2ms/step - loss: 0.0135 - mse: 0.0135 - val_loss: 0.0103 - val_mse: 0.0103\n",
      "Epoch 17/40\n",
      "6/6 [==============================] - 0s 2ms/step - loss: 0.0134 - mse: 0.0134 - val_loss: 0.0075 - val_mse: 0.0075\n",
      "Epoch 18/40\n",
      "6/6 [==============================] - 0s 2ms/step - loss: 0.0107 - mse: 0.0107 - val_loss: 0.0064 - val_mse: 0.0064\n",
      "Epoch 19/40\n",
      "6/6 [==============================] - 0s 2ms/step - loss: 0.0084 - mse: 0.0084 - val_loss: 0.0064 - val_mse: 0.0064\n",
      "Epoch 20/40\n",
      "6/6 [==============================] - 0s 2ms/step - loss: 0.0085 - mse: 0.0085 - val_loss: 0.0055 - val_mse: 0.0055\n",
      "Epoch 21/40\n",
      "6/6 [==============================] - 0s 2ms/step - loss: 0.0090 - mse: 0.0090 - val_loss: 0.0032 - val_mse: 0.0032\n",
      "Epoch 22/40\n",
      "6/6 [==============================] - 0s 3ms/step - loss: 0.0081 - mse: 0.0081 - val_loss: 0.0013 - val_mse: 0.0013\n",
      "Epoch 23/40\n",
      "6/6 [==============================] - 0s 2ms/step - loss: 0.0064 - mse: 0.0064 - val_loss: 0.0011 - val_mse: 0.0011\n",
      "Epoch 24/40\n",
      "6/6 [==============================] - 0s 2ms/step - loss: 0.0051 - mse: 0.0051 - val_loss: 0.0015 - val_mse: 0.0015\n",
      "Epoch 25/40\n",
      "6/6 [==============================] - 0s 2ms/step - loss: 0.0037 - mse: 0.0037 - val_loss: 0.0011 - val_mse: 0.0011\n",
      "Epoch 26/40\n",
      "6/6 [==============================] - 0s 2ms/step - loss: 0.0017 - mse: 0.0017 - val_loss: 2.9635e-04 - val_mse: 2.9635e-04\n",
      "Epoch 27/40\n",
      "6/6 [==============================] - 0s 2ms/step - loss: 2.6061e-04 - mse: 2.6061e-04 - val_loss: 3.3923e-04 - val_mse: 3.3923e-04\n",
      "Epoch 28/40\n",
      "6/6 [==============================] - 0s 2ms/step - loss: 4.3257e-04 - mse: 4.3257e-04 - val_loss: 6.7618e-04 - val_mse: 6.7618e-04\n",
      "Epoch 29/40\n",
      "6/6 [==============================] - 0s 2ms/step - loss: 0.0015 - mse: 0.0015 - val_loss: 4.9810e-04 - val_mse: 4.9810e-04\n",
      "Epoch 30/40\n",
      "6/6 [==============================] - 0s 2ms/step - loss: 0.0021 - mse: 0.0021 - val_loss: 7.1550e-04 - val_mse: 7.1550e-04\n",
      "Epoch 31/40\n",
      "6/6 [==============================] - 0s 3ms/step - loss: 0.0023 - mse: 0.0023 - val_loss: 0.0018 - val_mse: 0.0018\n",
      "Epoch 32/40\n",
      "6/6 [==============================] - 0s 2ms/step - loss: 0.0027 - mse: 0.0027 - val_loss: 0.0021 - val_mse: 0.0021\n",
      "Epoch 33/40\n",
      "6/6 [==============================] - 0s 2ms/step - loss: 0.0025 - mse: 0.0025 - val_loss: 9.5112e-04 - val_mse: 9.5112e-04\n",
      "Epoch 34/40\n",
      "6/6 [==============================] - 0s 2ms/step - loss: 0.0017 - mse: 0.0017 - val_loss: 2.1749e-04 - val_mse: 2.1749e-04\n",
      "Epoch 35/40\n",
      "6/6 [==============================] - 0s 2ms/step - loss: 0.0010 - mse: 0.0010 - val_loss: 3.1492e-04 - val_mse: 3.1492e-04\n",
      "Epoch 36/40\n",
      "6/6 [==============================] - 0s 2ms/step - loss: 7.6719e-04 - mse: 7.6719e-04 - val_loss: 4.0473e-04 - val_mse: 4.0473e-04\n",
      "Epoch 37/40\n",
      "6/6 [==============================] - 0s 2ms/step - loss: 4.8023e-04 - mse: 4.8023e-04 - val_loss: 2.4866e-04 - val_mse: 2.4866e-04\n",
      "Epoch 38/40\n",
      "6/6 [==============================] - 0s 2ms/step - loss: 1.7039e-04 - mse: 1.7039e-04 - val_loss: 1.4088e-04 - val_mse: 1.4088e-04\n",
      "Epoch 39/40\n",
      "6/6 [==============================] - 0s 3ms/step - loss: 1.1645e-04 - mse: 1.1645e-04 - val_loss: 1.2918e-04 - val_mse: 1.2918e-04\n",
      "Epoch 40/40\n",
      "6/6 [==============================] - 0s 2ms/step - loss: 2.4678e-04 - mse: 2.4678e-04 - val_loss: 8.6309e-05 - val_mse: 8.6309e-05\n"
     ]
    }
   ],
   "source": [
    "import keras\n",
    "from keras.models import Sequential\n",
    "from keras.layers import Dense\n",
    "from keras import optimizers\n",
    "# Neural network\n",
    "\n",
    "model = Sequential()\n",
    "model.add(Dense(16, input_dim=16,kernel_initializer='random_uniform',activation='tanh'))\n",
    "model.add(Dense(10, activation='tanh'))\n",
    "model.add(Dense(1,kernel_initializer='random_uniform'))\n",
    "\n",
    "adam = optimizers.Adam(lr=0.1, beta_1=0.9, beta_2=0.999, epsilon=1e-8, decay=0.01, amsgrad=False)\n",
    "sgd = optimizers.SGD(lr=0.03, momentum=0.9, decay=0.01, nesterov=False)\n",
    "model.compile(loss='mse', optimizer=adam, metrics=['mse'])\n",
    "\n",
    "history = model.fit(train_X,train_Y , validation_data = (test_X,test_Y),epochs=40)"
   ]
  },
  {
   "cell_type": "code",
   "execution_count": 198,
   "metadata": {},
   "outputs": [
    {
     "data": {
      "image/png": "[encoded data removed]",
      "text/plain": [
       "<Figure size 432x288 with 1 Axes>"
      ]
     },
     "metadata": {
      "needs_background": "light"
     },
     "output_type": "display_data"
    }
   ],
   "source": [
    "import matplotlib.pyplot as plt\n",
    "plt.plot(history.history['mse'])\n",
    "plt.plot(history.history['val_mse'])\n",
    "plt.title('Model mse')\n",
    "plt.ylabel('MSE')\n",
    "plt.xlabel('Epoch')\n",
    "plt.legend(['Train', 'Test'], loc='upper left')\n",
    "plt.show()"
   ]
  },
  {
   "cell_type": "code",
   "execution_count": 101,
   "metadata": {},
   "outputs": [
    {
     "data": {
      "image/png": "[encoded data removed]",
      "text/plain": [
       "<Figure size 432x288 with 1 Axes>"
      ]
     },
     "metadata": {
      "needs_background": "light"
     },
     "output_type": "display_data"
    }
   ],
   "source": [
    "plt.plot(history.history['loss'])\n",
    "plt.plot(history.history['val_loss'])\n",
    "plt.title('Model loss')\n",
    "plt.ylabel('Loss')\n",
    "plt.xlabel('Epoch')\n",
    "plt.legend(['Train', 'Test'], loc='upper left')\n",
    "plt.show()"
   ]
  },
  {
   "cell_type": "code",
   "execution_count": 175,
   "metadata": {},
   "outputs": [
    {
     "data": {
      "text/plain": [
       "array([[0.33546644],\n",
       "       [0.9993391 ],\n",
       "       [0.9893462 ]], dtype=float32)"
      ]
     },
     "execution_count": 175,
     "metadata": {},
     "output_type": "execute_result"
    }
   ],
   "source": [
    "model.predict(test_X)"
   ]
  },
  {
   "cell_type": "code",
   "execution_count": null,
   "metadata": {},
   "outputs": [],
   "source": [
    "epoch=40\n",
    "input_number=16\n",
    "initial_w=rand(16,1)*2-1\n",
    "w=[network.initial_w,network.initial_w,network.initial_w]\n",
    "learning_rate=[0.03 0.1 0.2]"
   ]
  },
  {
   "cell_type": "code",
   "execution_count": null,
   "metadata": {},
   "outputs": [],
   "source": []
  },
  {
   "cell_type": "code",
   "execution_count": null,
   "metadata": {},
   "outputs": [],
   "source": []
  }
 ],
 "metadata": {
  "kernelspec": {
   "display_name": "Python 3",
   "language": "python",
   "name": "python3"
  },
  "language_info": {
   "codemirror_mode": {
    "name": "ipython",
    "version": 3
   },
   "file_extension": ".py",
   "mimetype": "text/x-python",
   "name": "python",
   "nbconvert_exporter": "python",
   "pygments_lexer": "ipython3",
   "version": "3.7.3"
  }
 },
 "nbformat": 4,
 "nbformat_minor": 2
}
