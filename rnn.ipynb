{
 "cells": [
  {
   "cell_type": "code",
   "execution_count": 1,
   "metadata": {},
   "outputs": [],
   "source": [
    "import numpy as np\n",
    "import math\n",
    "#learning data\n",
    "Lrn_Dat=np.zeros(9000)\n",
    "for i in range(5000):\n",
    "    Lrn_Dat[i]=np.random.rand()*4-2\n",
    "for i in range(5000,9000):\n",
    "    Lrn_Dat[i] =1.05*math.sin(math.pi*i/45)"
   ]
  },
  {
   "cell_type": "code",
   "execution_count": 2,
   "metadata": {},
   "outputs": [],
   "source": [
    "Lrn_Desire_Output=np.zeros(9001)\n",
    "for k in range(3):\n",
    "    Lrn_Desire_Output[k]=0\n",
    "\n",
    "for k in range(2,9000):\n",
    "    Lrn_Desire_Output[k+1] = (Lrn_Desire_Output[k]*Lrn_Desire_Output[k-1]*Lrn_Desire_Output[k-2]*Lrn_Dat[k-1]*(Lrn_Desire_Output[k-2]-1)+Lrn_Dat[k])/(1+Lrn_Desire_Output[k-2]**2+Lrn_Desire_Output[k-1]**2)"
   ]
  },
  {
   "cell_type": "code",
   "execution_count": 3,
   "metadata": {},
   "outputs": [],
   "source": [
    "#test data\n",
    "Test_Dat=np.zeros(1000)\n",
    "for k in range (249):\n",
    "    Test_Dat[k] = math.sin(math.pi*(k+1)/25)\n",
    "for k in range (249,499):\n",
    "    Test_Dat[k] = 1\n",
    "for k in range (499,749):\n",
    "    Test_Dat[k]=-1\n",
    "for k in range (749,1000):\n",
    "    Test_Dat[k]=0.3*math.sin(math.pi*(k+1)/25)+0.1*math.sin(math.pi*(k+1)/32)+0.6*math.sin(math.pi*(k+1)/10)"
   ]
  },
  {
   "cell_type": "code",
   "execution_count": 4,
   "metadata": {},
   "outputs": [],
   "source": [
    "#Test_Desire_Output\n",
    "Test_Desire_Output =np.zeros(1001)\n",
    "Test_Desire_Output[0]=0\n",
    "k=0\n",
    "Test_Desire_Output[k+1] = (Test_Desire_Output[k]*0*0*0*(0-1)+Test_Dat[k])/(1+0**2+0**2)\n",
    "k=1\n",
    "Test_Desire_Output[k+1] = (Test_Desire_Output[k]*Test_Desire_Output[k-1]*0*Test_Dat[k-1]*(0-1)+Test_Dat[k])/(1+0**2+Test_Desire_Output[k-1]**2)\n",
    "for k in range (2,1000):\n",
    "    Test_Desire_Output[k+1] = (Test_Desire_Output[k]*Test_Desire_Output[k-1]*Test_Desire_Output[k-2]*Test_Dat[k-1]*(Test_Desire_Output[k-2]-1)+Test_Dat[k])/(1+Test_Desire_Output[k-2]**2+Test_Desire_Output[k-1]**2) "
   ]
  },
  {
   "cell_type": "code",
   "execution_count": 5,
   "metadata": {},
   "outputs": [],
   "source": [
    "P=Lrn_Dat[:].reshape(len(Lrn_Dat[:]),1)\n",
    "T=Lrn_Desire_Output[1:9001].reshape(len(Lrn_Desire_Output[1:9001]),1)\n",
    "Q=Test_Dat[1:1000].reshape(len(Test_Dat[1:1000]),1)"
   ]
  },
  {
   "cell_type": "code",
   "execution_count": 6,
   "metadata": {},
   "outputs": [
    {
     "name": "stdout",
     "output_type": "stream",
     "text": [
      "Epoch: 100; Error: 26293662398021.895;\n",
      "Epoch: 200; Error: 22466278772.020905;\n",
      "Epoch: 300; Error: 15928060892.92734;\n",
      "Epoch: 400; Error: 57105365.397344574;\n",
      "Epoch: 500; Error: 15917673.276045203;\n",
      "Epoch: 600; Error: 304362.58397128293;\n",
      "Epoch: 700; Error: 41230.25095688779;\n",
      "Epoch: 800; Error: 872.4282098395622;\n",
      "Epoch: 900; Error: 558.4104646012453;\n",
      "Epoch: 1000; Error: 18.546837921827514;\n",
      "Epoch: 1100; Error: 10.04627695830518;\n",
      "Epoch: 1200; Error: 0.30559293383751396;\n",
      "Epoch: 1300; Error: 0.2957474666511432;\n",
      "Epoch: 1400; Error: 0.2935776742700293;\n",
      "Epoch: 1500; Error: 0.3000399795752074;\n",
      "Epoch: 1600; Error: 0.2946450283084173;\n",
      "Epoch: 1700; Error: 0.29350904424506374;\n",
      "Epoch: 1800; Error: 0.2941197151369123;\n",
      "Epoch: 1900; Error: 0.31198321182112476;\n",
      "Epoch: 2000; Error: 0.3077184660039623;\n",
      "Epoch: 2100; Error: 0.2953891243524833;\n",
      "Epoch: 2200; Error: 0.29507121244395706;\n",
      "Epoch: 2300; Error: 0.29804575107785597;\n",
      "Epoch: 2400; Error: 0.2936620257583715;\n",
      "Epoch: 2500; Error: 0.2934831174148429;\n",
      "The maximum number of train epochs is reached\n"
     ]
    }
   ],
   "source": [
    "import neurolab as nl\n",
    "net = nl.net.newelm([[-1, 1]], [10, 1], [nl.trans.TanSig(), nl.trans.PureLin()])\n",
    "net.layers[0].initf = nl.init.InitRand([-0.1, 0.1], 'wb')\n",
    "net.layers[1].initf= nl.init.InitRand([-0.1, 0.1], 'wb')\n",
    "net.init()\n",
    "# 网络的初始化\n",
    "error = net.train(P,T, epochs=2500, show=100, goal=0.01)"
   ]
  },
  {
   "cell_type": "code",
   "execution_count": 7,
   "metadata": {},
   "outputs": [],
   "source": [
    "output = net.sim(Q)"
   ]
  },
  {
   "cell_type": "code",
   "execution_count": 8,
   "metadata": {},
   "outputs": [
    {
     "data": {
      "text/plain": [
       "[<matplotlib.lines.Line2D at 0x27aef6922b0>]"
      ]
     },
     "execution_count": 8,
     "metadata": {},
     "output_type": "execute_result"
    },
    {
     "data": {
      "image/png": "[encoded data removed]",
      "text/plain": [
       "<Figure size 432x288 with 2 Axes>"
      ]
     },
     "metadata": {
      "needs_background": "light"
     },
     "output_type": "display_data"
    }
   ],
   "source": [
    "import matplotlib.pyplot as plt\n",
    "plt.subplot(211)\n",
    "plt.plot(error)\n",
    "plt.xlabel('Epoch number')\n",
    "plt.ylabel('Train error (default MSE)')\n",
    "\n",
    "plt.subplot(212)\n",
    "plt.plot(output[:1000])\n",
    "plt.plot(Test_Desire_Output)\n"
   ]
  },
  {
   "cell_type": "code",
   "execution_count": null,
   "metadata": {},
   "outputs": [],
   "source": []
  }
 ],
 "metadata": {
  "kernelspec": {
   "display_name": "Python (tensorflow-gpu)",
   "language": "python",
   "name": "tensorflow-gpu"
  },
  "language_info": {
   "codemirror_mode": {
    "name": "ipython",
    "version": 3
   },
   "file_extension": ".py",
   "mimetype": "text/x-python",
   "name": "python",
   "nbconvert_exporter": "python",
   "pygments_lexer": "ipython3",
   "version": "3.6.9"
  }
 },
 "nbformat": 4,
 "nbformat_minor": 2
}
